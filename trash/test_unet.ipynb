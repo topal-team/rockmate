{
 "cells": [
  {
   "cell_type": "code",
   "execution_count": 1,
   "id": "c499ae13-2081-4298-a546-efc1f7a3f8ac",
   "metadata": {},
   "outputs": [
    {
     "name": "stdout",
     "output_type": "stream",
     "text": [
      "device : cpu\n"
     ]
    }
   ],
   "source": [
    "import os\n",
    "#os.chdir(\"/home/tlehella/rotor_checkmate/\")\n",
    "os.chdir(\"/home/theotime/Documents/Projets/rotor_checkmate/\")\n",
    "import torch\n",
    "import rkgb\n",
    "\n",
    "device = torch.device(\"cuda\" if torch.cuda.is_available() else \"cpu\")\n",
    "print(f\"device : {device}\")\n",
    "\n",
    "import torch"
   ]
  },
  {
   "cell_type": "markdown",
   "id": "671935ea",
   "metadata": {},
   "source": [
    "# UNET"
   ]
  },
  {
   "cell_type": "code",
   "execution_count": 16,
   "id": "651162d6-263d-45cb-86dc-4d9c92da528f",
   "metadata": {},
   "outputs": [
    {
     "name": "stderr",
     "output_type": "stream",
     "text": [
      "Using cache found in /home/theotime/.cache/torch/hub/mateuszbuda_brain-segmentation-pytorch_master\n"
     ]
    }
   ],
   "source": [
    "model = torch.hub.load('mateuszbuda/brain-segmentation-pytorch', 'unet',\n",
    "    in_channels=3, out_channels=1, init_features=32, pretrained=True)\n",
    "inp = torch.randn((1,3,256,256))"
   ]
  },
  {
   "cell_type": "code",
   "execution_count": 28,
   "id": "dbdbbcfc-2a89-4e06-ae82-44dcd7754790",
   "metadata": {},
   "outputs": [],
   "source": [
    "rkgb_res = rkgb.make_all_graphs(model,inp,check_device_is_gpu=False)\n",
    "sg = rkgb_res.S_graph\n",
    "kg : rkgb.Ktools.K_graph = rkgb_res.K_graph"
   ]
  },
  {
   "cell_type": "code",
   "execution_count": 31,
   "id": "6effb751",
   "metadata": {},
   "outputs": [
    {
     "name": "stdout",
     "output_type": "stream",
     "text": [
      "For __28_input, inputs : 0.0B, output : 8.0MiBphantoms : 0\n",
      "For __40_input, inputs : 8.0MiB, output : 8.0MiBphantoms : 0\n",
      "For __44_input, inputs : 8.0MiB, output : 8.0MiBphantoms : 0\n",
      "For __57_input, inputs : 8.0MiB, output : 8.0MiBphantoms : 0\n",
      "For __60_input, inputs : 8.0MiB, output : 2.0MiBphantoms : 0.0B\n",
      "For __73_input, inputs : 2.0MiB, output : 4.0MiBphantoms : 0\n",
      "For __85_input, inputs : 4.0MiB, output : 4.0MiBphantoms : 0\n",
      "For __89_input, inputs : 4.0MiB, output : 4.0MiBphantoms : 0\n",
      "For __102_input, inputs : 4.0MiB, output : 4.0MiBphantoms : 0\n",
      "For __105_input, inputs : 4.0MiB, output : 1.0MiBphantoms : 0.0B\n",
      "For __118_input, inputs : 1.0MiB, output : 2.0MiBphantoms : 0\n",
      "For __130_input, inputs : 2.0MiB, output : 2.0MiBphantoms : 0\n",
      "For __134_input, inputs : 2.0MiB, output : 2.0MiBphantoms : 0\n",
      "For __147_input, inputs : 2.0MiB, output : 2.0MiBphantoms : 0\n",
      "For __150_input, inputs : 2.0MiB, output : 512.0KiBphantoms : 0.0B\n",
      "For __163_input, inputs : 512.0KiB, output : 1.0MiBphantoms : 0\n",
      "For __175_input, inputs : 1.0MiB, output : 1.0MiBphantoms : 0\n",
      "For __179_input, inputs : 1.0MiB, output : 1.0MiBphantoms : 0\n",
      "For __192_input, inputs : 1.0MiB, output : 1.0MiBphantoms : 0\n",
      "For __195_input, inputs : 1.0MiB, output : 256.0KiBphantoms : 0.0B\n",
      "For __208_input, inputs : 256.0KiB, output : 512.0KiBphantoms : 0\n",
      "For __221_input, inputs : 512.0KiB, output : 512.0KiBphantoms : 0\n",
      "For __225_input, inputs : 512.0KiB, output : 512.0KiBphantoms : 0\n",
      "For __237_input, inputs : 512.0KiB, output : 512.0KiBphantoms : 0\n",
      "For __243_dec4, inputs : 512.0KiB, output : 1.0MiBphantoms : 0\n",
      "For __239_input, inputs : 2.0MiB, output : 2.0MiBphantoms : 0\n",
      "For __257_input0, inputs : 2.0MiB, output : 1.0MiBphantoms : 0\n",
      "For __269_input, inputs : 1.0MiB, output : 1.0MiBphantoms : 0\n",
      "For __273_input, inputs : 1.0MiB, output : 1.0MiBphantoms : 0\n",
      "For __286_input, inputs : 1.0MiB, output : 1.0MiBphantoms : 0\n",
      "For __290_dec3, inputs : 1.0MiB, output : 2.0MiBphantoms : 0\n",
      "For __295_input0, inputs : 4.0MiB, output : 4.0MiBphantoms : 0\n",
      "For __306_input0, inputs : 4.0MiB, output : 2.0MiBphantoms : 0\n",
      "For __318_input, inputs : 2.0MiB, output : 2.0MiBphantoms : 0\n",
      "For __322_input, inputs : 2.0MiB, output : 2.0MiBphantoms : 0\n",
      "For __335_input, inputs : 2.0MiB, output : 2.0MiBphantoms : 0\n",
      "For __339_dec2, inputs : 2.0MiB, output : 4.0MiBphantoms : 0\n",
      "For __344_input1, inputs : 8.0MiB, output : 8.0MiBphantoms : 0\n",
      "For __355_input0, inputs : 8.0MiB, output : 4.0MiBphantoms : 0\n",
      "For __367_input, inputs : 4.0MiB, output : 4.0MiBphantoms : 0\n",
      "For __371_input, inputs : 4.0MiB, output : 4.0MiBphantoms : 0\n",
      "For __384_input, inputs : 4.0MiB, output : 4.0MiBphantoms : 0\n",
      "For __388_dec1, inputs : 4.0MiB, output : 8.0MiBphantoms : 0\n",
      "For __393_input2, inputs : 16.0MiB, output : 16.0MiBphantoms : 0\n",
      "For __404_input0, inputs : 16.0MiB, output : 8.0MiBphantoms : 0\n",
      "For __416_input, inputs : 8.0MiB, output : 8.0MiBphantoms : 0\n",
      "For __420_input, inputs : 8.0MiB, output : 8.0MiBphantoms : 0\n",
      "For __433_input, inputs : 8.0MiB, output : 8.0MiBphantoms : 0\n",
      "For __437__0, inputs : 8.0MiB, output : 256.0KiBphantoms : 0\n",
      "For __442_fv, inputs : 256.0KiB, output : 256.0KiBphantoms : 0\n"
     ]
    }
   ],
   "source": [
    "dict_info = sg.dict_info\n",
    "for sn in sg.nodes:\n",
    "    mt = sn.main_target\n",
    "    mem_inputs = rkgb.utils.imports_from_rotor.MemSize(0)\n",
    "    for req_sn in sn.deps:\n",
    "        try:\n",
    "            mem_inputs += dict_info[req_sn.main_target].memsize\n",
    "        except: pass\n",
    "    has_phantoms = f\"{mt} phantoms\" in kg.dict_kn\n",
    "    phantom_mem = kg.dict_kn[f\"{mt} phantoms\"].mem if has_phantoms else 0\n",
    "    print(f\"For {sn.main_target}, \"\\\n",
    "          f\"inputs : {mem_inputs}, \"\\\n",
    "          f\"output : {dict_info[sn.main_target].memsize}, \"\\\n",
    "          f\"phantoms : {phantom_mem}\")"
   ]
  },
  {
   "cell_type": "code",
   "execution_count": 4,
   "id": "b2c59f93",
   "metadata": {},
   "outputs": [],
   "source": [
    "pg = rkgb.Ptools.S_to_P_init(rkgb_res.S_graph)\n",
    "rkgb.Ptools.rule_group_sequences(pg)\n",
    "rkgb.Ptools.rule_merge_small_flows(pg)"
   ]
  },
  {
   "cell_type": "code",
   "execution_count": 5,
   "id": "70b51976",
   "metadata": {},
   "outputs": [
    {
     "name": "stdout",
     "output_type": "stream",
     "text": [
      "Partitioned forward graph : 9 nodes\n"
     ]
    },
    {
     "name": "stderr",
     "output_type": "stream",
     "text": [
      "kf.service.services: KApplicationTrader: mimeType \"x-scheme-handler/file\" not found\n",
      "kf.service.services: KApplicationTrader: mimeType \"x-scheme-handler/file\" not found\n"
     ]
    }
   ],
   "source": [
    "rkgb.Ptools.print_P_graph(pg,name=\"P_graph UNet\")"
   ]
  },
  {
   "cell_type": "code",
   "execution_count": 7,
   "id": "a35a4ebe",
   "metadata": {},
   "outputs": [
    {
     "name": "stdout",
     "output_type": "stream",
     "text": [
      "Simplified forward graph : 50 nodes\n"
     ]
    },
    {
     "name": "stderr",
     "output_type": "stream",
     "text": [
      "kf.service.services: KApplicationTrader: mimeType \"x-scheme-handler/file\" not found\n",
      "kf.service.services: KApplicationTrader: mimeType \"x-scheme-handler/file\" not found\n"
     ]
    }
   ],
   "source": [
    "rkgb.print_graph(rkgb_res.S_graph)"
   ]
  },
  {
   "cell_type": "markdown",
   "id": "8b238b69",
   "metadata": {},
   "source": [
    "# GPT"
   ]
  },
  {
   "cell_type": "code",
   "execution_count": 8,
   "id": "5d158fce-a902-43bc-97d2-49578623610a",
   "metadata": {},
   "outputs": [],
   "source": [
    "from models.GPT import GPT2\n",
    "\n",
    "mod_gpt2 = GPT2(nlayers=12,dropout=0.1)\n",
    "mod_gpt2.to(device)\n",
    "input_gpt2 = torch.randint(5400,(100,20),device = device)"
   ]
  },
  {
   "cell_type": "code",
   "execution_count": 9,
   "id": "c686c80a",
   "metadata": {},
   "outputs": [],
   "source": [
    "import warnings ; warnings.filterwarnings(\"ignore\")\n",
    "rkgb_on_gpt2 = rkgb.make_all_graphs(mod_gpt2,input_gpt2,check_device_is_gpu=False)\n",
    "sg = rkgb_on_gpt2.S_graph"
   ]
  },
  {
   "cell_type": "code",
   "execution_count": 14,
   "id": "49ea146a",
   "metadata": {},
   "outputs": [],
   "source": [
    "pg = rkgb.Ptools.S_to_P_init(sg)\n",
    "rkgb.Ptools.rule_group_sequences(pg)\n",
    "rkgb.Ptools.rule_merge_small_flows(pg)"
   ]
  },
  {
   "cell_type": "code",
   "execution_count": 15,
   "id": "6a9f1c7f",
   "metadata": {},
   "outputs": [
    {
     "name": "stdout",
     "output_type": "stream",
     "text": [
      "Partitioned forward graph : 20 nodes\n"
     ]
    },
    {
     "name": "stderr",
     "output_type": "stream",
     "text": [
      "kf.service.services: KApplicationTrader: mimeType \"x-scheme-handler/file\" not found\n",
      "kf.service.services: KApplicationTrader: mimeType \"x-scheme-handler/file\" not found\n"
     ]
    }
   ],
   "source": [
    "rkgb.print_graph(pg,name=\"P_graph GPT2_12\")"
   ]
  },
  {
   "cell_type": "code",
   "execution_count": 33,
   "id": "f0608c3b",
   "metadata": {},
   "outputs": [
    {
     "name": "stdout",
     "output_type": "stream",
     "text": [
      "105\n"
     ]
    },
    {
     "name": "stderr",
     "output_type": "stream",
     "text": [
      "kf.service.services: KApplicationTrader: mimeType \"x-scheme-handler/file\" not found\n",
      "kf.service.services: KApplicationTrader: mimeType \"x-scheme-handler/file\" not found\n"
     ]
    }
   ],
   "source": [
    "print(sum(pn.size() for pn in pg.list_nodes))"
   ]
  },
  {
   "cell_type": "markdown",
   "id": "470e87c3",
   "metadata": {},
   "source": [
    "# FNO"
   ]
  },
  {
   "cell_type": "code",
   "execution_count": 7,
   "id": "6b1a7f16",
   "metadata": {},
   "outputs": [],
   "source": [
    "from def_FNO import FNO1d"
   ]
  },
  {
   "cell_type": "code",
   "execution_count": 8,
   "id": "0e888c8c",
   "metadata": {},
   "outputs": [
    {
     "name": "stdout",
     "output_type": "stream",
     "text": [
      "Yohoo, FNO created\n"
     ]
    }
   ],
   "source": [
    "modes = 16\n",
    "width = 64\n",
    "mod_FNO = FNO1d(modes, width).to(device)\n",
    "\n",
    "seq = 32\n",
    "\n",
    "shape = (20,seq,1)\n",
    "sample_FNO = torch.rand(*shape,device=device)\n",
    "\n",
    "print('Yohoo, FNO created')"
   ]
  },
  {
   "cell_type": "code",
   "execution_count": 9,
   "id": "610c150f",
   "metadata": {},
   "outputs": [],
   "source": [
    "import warnings ; warnings.filterwarnings(\"ignore\")\n",
    "rkgb_on_FNO = rkgb.make_all_graphs(mod_FNO,sample_FNO,check_device_is_gpu=False)"
   ]
  },
  {
   "cell_type": "code",
   "execution_count": 10,
   "id": "b1e734b3",
   "metadata": {},
   "outputs": [],
   "source": [
    "sg = rkgb_on_FNO.S_graph\n",
    "pg = rkgb.Ptools.S_to_P_init(sg)\n",
    "rkgb.Ptools.rule_group_sequences(pg)\n",
    "rkgb.Ptools.rule_merge_small_flows(pg)"
   ]
  },
  {
   "cell_type": "code",
   "execution_count": 11,
   "id": "248b584c",
   "metadata": {},
   "outputs": [
    {
     "name": "stdout",
     "output_type": "stream",
     "text": [
      "Partitioned forward graph : 19 nodes\n"
     ]
    },
    {
     "name": "stderr",
     "output_type": "stream",
     "text": [
      "kf.service.services: KApplicationTrader: mimeType \"x-scheme-handler/file\" not found\n",
      "kf.service.services: KApplicationTrader: mimeType \"x-scheme-handler/file\" not found\n"
     ]
    }
   ],
   "source": [
    "rkgb.print_graph(pg,name=\"P_graph FNO\")"
   ]
  },
  {
   "cell_type": "code",
   "execution_count": null,
   "id": "83710197",
   "metadata": {},
   "outputs": [],
   "source": []
  }
 ],
 "metadata": {
  "kernelspec": {
   "display_name": "base",
   "language": "python",
   "name": "python3"
  },
  "language_info": {
   "codemirror_mode": {
    "name": "ipython",
    "version": 3
   },
   "file_extension": ".py",
   "mimetype": "text/x-python",
   "name": "python",
   "nbconvert_exporter": "python",
   "pygments_lexer": "ipython3",
   "version": "3.9.12"
  },
  "vscode": {
   "interpreter": {
    "hash": "3641b530204edd14ed1d38eb0812d9a3d1603c19c1afb0f03cf097d4da1c7cbf"
   }
  }
 },
 "nbformat": 4,
 "nbformat_minor": 5
}
